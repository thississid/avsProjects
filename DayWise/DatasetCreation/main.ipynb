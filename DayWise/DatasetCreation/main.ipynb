{
 "cells": [
  {
   "cell_type": "code",
   "execution_count": 3,
   "metadata": {},
   "outputs": [
    {
     "data": {
      "text/plain": [
       "'simulated_vehicle_data.csv'"
      ]
     },
     "execution_count": 3,
     "metadata": {},
     "output_type": "execute_result"
    }
   ],
   "source": [
    "import pandas as pd\n",
    "import numpy as np\n",
    "\n",
    "# Set seed for reproducibility\n",
    "np.random.seed(42)\n",
    "\n",
    "# Number of samples\n",
    "num_samples = 100\n",
    "\n",
    "# Simulate speed (km/h), normal driving range 0-120, occasional outliers\n",
    "speed = np.random.normal(60, 20, num_samples)\n",
    "speed[speed < 0] = 0  # Ensure no negative speeds\n",
    "speed[speed > 150] = 150  # Limit max speed\n",
    "speed[np.random.choice(num_samples, 5, replace=False)] = np.random.choice([200, -10], 5)  # Inject outliers\n",
    "\n",
    "# Simulate engine performance (% efficiency, 50-100), occasional dips due to faults\n",
    "engine_performance = np.random.normal(80, 10, num_samples)\n",
    "engine_performance[engine_performance < 50] = 50\n",
    "engine_performance[engine_performance > 100] = 100\n",
    "engine_performance[np.random.choice(num_samples, 5, replace=False)] = np.random.choice([30, 110], 5)  # Outliers\n",
    "\n",
    "# Simulate ultrasonic sensor input (distance in cm), occasional errors\n",
    "ultrasonic_sensor = np.random.normal(100, 30, num_samples)\n",
    "ultrasonic_sensor[ultrasonic_sensor < 0] = 0  # No negative distances\n",
    "ultrasonic_sensor[np.random.choice(num_samples, 5, replace=False)] = np.random.choice([500, -50], 5)  # Outliers\n",
    "\n",
    "# Simulate temperature sensor readings (°C), realistic range 10-90\n",
    "temperature_sensor = np.random.normal(40, 15, num_samples)\n",
    "temperature_sensor[temperature_sensor < 10] = 10\n",
    "temperature_sensor[temperature_sensor > 90] = 90\n",
    "\n",
    "# Simulate fuel level (%), should decrease over time\n",
    "fuel_level = np.linspace(100, 10, num_samples) + np.random.normal(0, 5, num_samples)\n",
    "fuel_level[fuel_level < 0] = 0\n",
    "\n",
    "# Simulate brake pressure (bar), normal range 0-10, some high-pressure outliers\n",
    "brake_pressure = np.random.normal(2, 1, num_samples)\n",
    "brake_pressure[brake_pressure < 0] = 0  # No negative pressure\n",
    "brake_pressure[np.random.choice(num_samples, 5, replace=False)] = np.random.choice([15, -5], 5)  # Outliers\n",
    "\n",
    "# Inject NaN values randomly in different columns\n",
    "for col in [speed, engine_performance, ultrasonic_sensor, temperature_sensor, fuel_level, brake_pressure]:\n",
    "    col[np.random.choice(num_samples, 5, replace=False)] = np.nan\n",
    "\n",
    "# Create DataFrame\n",
    "df = pd.DataFrame({\n",
    "    \"Speed (km/h)\": speed,\n",
    "    \"Engine Performance (%)\": engine_performance,\n",
    "    \"Ultrasonic Sensor (cm)\": ultrasonic_sensor,\n",
    "    \"Temperature Sensor (°C)\": temperature_sensor,\n",
    "    \"Fuel Level (%)\": fuel_level,\n",
    "    \"Brake Pressure (bar)\": brake_pressure,\n",
    "})\n",
    "\n",
    "# Save to CSV\n",
    "file_path = \"simulated_vehicle_data.csv\"\n",
    "df.to_csv(file_path, index=False)\n",
    "\n",
    "file_path\n"
   ]
  },
  {
   "cell_type": "code",
   "execution_count": 7,
   "metadata": {},
   "outputs": [
    {
     "name": "stdout",
     "output_type": "stream",
     "text": [
      "Dataset saved as simulated_vehicle_pid_data.csv\n"
     ]
    }
   ],
   "source": [
    "import pandas as pd\n",
    "import numpy as np\n",
    "from datetime import datetime, timedelta\n",
    "\n",
    "# Set seed for reproducibility\n",
    "np.random.seed(42)\n",
    "\n",
    "# Number of samples\n",
    "num_samples = 100\n",
    "\n",
    "# Generate timestamps (1-minute intervals)\n",
    "start_time = datetime(2025, 3, 6, 12, 0, 0)\n",
    "timestamps = [start_time + timedelta(minutes=i) for i in range(num_samples)]\n",
    "\n",
    "# Simulate PID sensor output (control variable, range 0-100)\n",
    "pid_sensor = np.random.uniform(0, 100, num_samples)\n",
    "\n",
    "# Control speed based on PID sensor (higher PID leads to higher speed, with some randomness)\n",
    "speed = 30 + (pid_sensor * 1.2) + np.random.normal(0, 5, num_samples)\n",
    "speed[speed > 150] = 150  # Limit max speed\n",
    "\n",
    "# Control brake pressure inversely to PID sensor (higher PID = lower braking, lower PID = higher braking)\n",
    "brake_pressure = (10 - (pid_sensor / 10)) + np.random.normal(0, 1, num_samples)\n",
    "brake_pressure[brake_pressure < 0] = 0  # No negative pressure\n",
    "\n",
    "# Simulate temperature sensor (slowly increasing but decreasing with high speed)\n",
    "temperature = np.linspace(20, 80, num_samples) + np.random.normal(0, 2, num_samples)\n",
    "temperature -= speed * 0.05  # High speed cools down the system\n",
    "temperature[temperature < 10] = 10  # Minimum limit\n",
    "\n",
    "# Fuel and engine performance are inversely proportional\n",
    "fuel_level = np.linspace(100, 10, num_samples) + np.random.normal(0, 5, num_samples)\n",
    "fuel_level[fuel_level < 0] = 0\n",
    "engine_performance = 110 - fuel_level  # Higher fuel -> lower engine stress\n",
    "\n",
    "# Inject NaN values randomly in different columns\n",
    "nan_indices = np.random.choice(num_samples, 5, replace=False)\n",
    "df_updated = pd.DataFrame({\n",
    "    \"Timestamp\": timestamps,\n",
    "    \"PID Sensor Output\": pid_sensor,\n",
    "    \"Speed (km/h)\": speed,\n",
    "    \"Engine Performance (%)\": engine_performance,\n",
    "    \"Temperature Sensor (°C)\": temperature,\n",
    "    \"Fuel Level (%)\": fuel_level,\n",
    "    \"Brake Pressure (bar)\": brake_pressure,\n",
    "})\n",
    "df_updated.loc[nan_indices, [\"Speed (km/h)\", \"Engine Performance (%)\", \"PID Sensor Output\",\n",
    "                             \"Temperature Sensor (°C)\", \"Fuel Level (%)\", \"Brake Pressure (bar)\"]] = np.nan\n",
    "\n",
    "# Save to CSV\n",
    "file_path = \"simulated_vehicle_pid_data.csv\"\n",
    "df_updated.to_csv(file_path, index=False)\n",
    "\n",
    "print(\"Dataset saved as\", file_path)"
   ]
  }
 ],
 "metadata": {
  "kernelspec": {
   "display_name": "avsenv",
   "language": "python",
   "name": "python3"
  },
  "language_info": {
   "codemirror_mode": {
    "name": "ipython",
    "version": 3
   },
   "file_extension": ".py",
   "mimetype": "text/x-python",
   "name": "python",
   "nbconvert_exporter": "python",
   "pygments_lexer": "ipython3",
   "version": "3.13.2"
  }
 },
 "nbformat": 4,
 "nbformat_minor": 2
}
